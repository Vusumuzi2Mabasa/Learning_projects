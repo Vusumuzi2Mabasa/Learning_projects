{
  "nbformat": 4,
  "nbformat_minor": 0,
  "metadata": {
    "colab": {
      "name": "Web application",
      "provenance": [],
      "authorship_tag": "ABX9TyMO6swanRKZ0GLUc7OnCmll",
      "include_colab_link": true
    },
    "kernelspec": {
      "name": "python3",
      "display_name": "Python 3"
    },
    "language_info": {
      "name": "python"
    }
  },
  "cells": [
    {
      "cell_type": "markdown",
      "metadata": {
        "id": "view-in-github",
        "colab_type": "text"
      },
      "source": [
        "<a href=\"https://colab.research.google.com/github/Vusumuzi2Mabasa/Learning_projects/blob/main/Web_application.ipynb\" target=\"_parent\"><img src=\"https://colab.research.google.com/assets/colab-badge.svg\" alt=\"Open In Colab\"/></a>"
      ]
    },
    {
      "cell_type": "code",
      "source": [
        "! pip install streamlit"
      ],
      "metadata": {
        "colab": {
          "base_uri": "https://localhost:8080/"
        },
        "id": "JWqdiBN7D-nx",
        "outputId": "85aadcaa-f439-4902-a15c-890fcb9ac74c"
      },
      "execution_count": null,
      "outputs": [
        {
          "output_type": "stream",
          "name": "stdout",
          "text": [
            "Looking in indexes: https://pypi.org/simple, https://us-python.pkg.dev/colab-wheels/public/simple/\n",
            "Collecting streamlit\n",
            "  Downloading streamlit-1.12.2-py2.py3-none-any.whl (9.1 MB)\n",
            "\u001b[K     |████████████████████████████████| 9.1 MB 4.2 MB/s \n",
            "\u001b[?25hCollecting blinker>=1.0.0\n",
            "  Downloading blinker-1.5-py2.py3-none-any.whl (12 kB)\n",
            "Requirement already satisfied: packaging>=14.1 in /usr/local/lib/python3.7/dist-packages (from streamlit) (21.3)\n",
            "Collecting pympler>=0.9\n",
            "  Downloading Pympler-1.0.1-py3-none-any.whl (164 kB)\n",
            "\u001b[K     |████████████████████████████████| 164 kB 67.7 MB/s \n",
            "\u001b[?25hRequirement already satisfied: semver in /usr/local/lib/python3.7/dist-packages (from streamlit) (2.13.0)\n",
            "Requirement already satisfied: python-dateutil in /usr/local/lib/python3.7/dist-packages (from streamlit) (2.8.2)\n",
            "Requirement already satisfied: requests>=2.4 in /usr/local/lib/python3.7/dist-packages (from streamlit) (2.23.0)\n",
            "Requirement already satisfied: numpy in /usr/local/lib/python3.7/dist-packages (from streamlit) (1.21.6)\n",
            "Requirement already satisfied: protobuf<4,>=3.12 in /usr/local/lib/python3.7/dist-packages (from streamlit) (3.17.3)\n",
            "Requirement already satisfied: pandas>=0.21.0 in /usr/local/lib/python3.7/dist-packages (from streamlit) (1.3.5)\n",
            "Requirement already satisfied: typing-extensions>=3.10.0.0 in /usr/local/lib/python3.7/dist-packages (from streamlit) (4.1.1)\n",
            "Requirement already satisfied: tzlocal>=1.1 in /usr/local/lib/python3.7/dist-packages (from streamlit) (1.5.1)\n",
            "Collecting watchdog\n",
            "  Downloading watchdog-2.1.9-py3-none-manylinux2014_x86_64.whl (78 kB)\n",
            "\u001b[K     |████████████████████████████████| 78 kB 7.0 MB/s \n",
            "\u001b[?25hRequirement already satisfied: cachetools>=4.0 in /usr/local/lib/python3.7/dist-packages (from streamlit) (4.2.4)\n",
            "Requirement already satisfied: importlib-metadata>=1.4 in /usr/local/lib/python3.7/dist-packages (from streamlit) (4.12.0)\n",
            "Collecting pydeck>=0.1.dev5\n",
            "  Downloading pydeck-0.8.0b1-py2.py3-none-any.whl (4.7 MB)\n",
            "\u001b[K     |████████████████████████████████| 4.7 MB 42.8 MB/s \n",
            "\u001b[?25hCollecting gitpython!=3.1.19\n",
            "  Downloading GitPython-3.1.27-py3-none-any.whl (181 kB)\n",
            "\u001b[K     |████████████████████████████████| 181 kB 58.7 MB/s \n",
            "\u001b[?25hCollecting rich>=10.11.0\n",
            "  Downloading rich-12.5.1-py3-none-any.whl (235 kB)\n",
            "\u001b[K     |████████████████████████████████| 235 kB 59.0 MB/s \n",
            "\u001b[?25hRequirement already satisfied: pyarrow>=4.0 in /usr/local/lib/python3.7/dist-packages (from streamlit) (6.0.1)\n",
            "Requirement already satisfied: altair>=3.2.0 in /usr/local/lib/python3.7/dist-packages (from streamlit) (4.2.0)\n",
            "Requirement already satisfied: click>=7.0 in /usr/local/lib/python3.7/dist-packages (from streamlit) (7.1.2)\n",
            "Collecting validators>=0.2\n",
            "  Downloading validators-0.20.0.tar.gz (30 kB)\n",
            "Requirement already satisfied: toml in /usr/local/lib/python3.7/dist-packages (from streamlit) (0.10.2)\n",
            "Requirement already satisfied: tornado>=5.0 in /usr/local/lib/python3.7/dist-packages (from streamlit) (5.1.1)\n",
            "Requirement already satisfied: pillow>=6.2.0 in /usr/local/lib/python3.7/dist-packages (from streamlit) (7.1.2)\n",
            "Requirement already satisfied: jinja2 in /usr/local/lib/python3.7/dist-packages (from altair>=3.2.0->streamlit) (2.11.3)\n",
            "Requirement already satisfied: jsonschema>=3.0 in /usr/local/lib/python3.7/dist-packages (from altair>=3.2.0->streamlit) (4.3.3)\n",
            "Requirement already satisfied: entrypoints in /usr/local/lib/python3.7/dist-packages (from altair>=3.2.0->streamlit) (0.4)\n",
            "Requirement already satisfied: toolz in /usr/local/lib/python3.7/dist-packages (from altair>=3.2.0->streamlit) (0.12.0)\n",
            "Collecting gitdb<5,>=4.0.1\n",
            "  Downloading gitdb-4.0.9-py3-none-any.whl (63 kB)\n",
            "\u001b[K     |████████████████████████████████| 63 kB 1.9 MB/s \n",
            "\u001b[?25hCollecting smmap<6,>=3.0.1\n",
            "  Downloading smmap-5.0.0-py3-none-any.whl (24 kB)\n",
            "Requirement already satisfied: zipp>=0.5 in /usr/local/lib/python3.7/dist-packages (from importlib-metadata>=1.4->streamlit) (3.8.1)\n",
            "Requirement already satisfied: importlib-resources>=1.4.0 in /usr/local/lib/python3.7/dist-packages (from jsonschema>=3.0->altair>=3.2.0->streamlit) (5.9.0)\n",
            "Requirement already satisfied: pyrsistent!=0.17.0,!=0.17.1,!=0.17.2,>=0.14.0 in /usr/local/lib/python3.7/dist-packages (from jsonschema>=3.0->altair>=3.2.0->streamlit) (0.18.1)\n",
            "Requirement already satisfied: attrs>=17.4.0 in /usr/local/lib/python3.7/dist-packages (from jsonschema>=3.0->altair>=3.2.0->streamlit) (22.1.0)\n",
            "Requirement already satisfied: pyparsing!=3.0.5,>=2.0.2 in /usr/local/lib/python3.7/dist-packages (from packaging>=14.1->streamlit) (3.0.9)\n",
            "Requirement already satisfied: pytz>=2017.3 in /usr/local/lib/python3.7/dist-packages (from pandas>=0.21.0->streamlit) (2022.2.1)\n",
            "Requirement already satisfied: six>=1.9 in /usr/local/lib/python3.7/dist-packages (from protobuf<4,>=3.12->streamlit) (1.15.0)\n",
            "Requirement already satisfied: MarkupSafe>=0.23 in /usr/local/lib/python3.7/dist-packages (from jinja2->altair>=3.2.0->streamlit) (2.0.1)\n",
            "Requirement already satisfied: certifi>=2017.4.17 in /usr/local/lib/python3.7/dist-packages (from requests>=2.4->streamlit) (2022.6.15)\n",
            "Requirement already satisfied: urllib3!=1.25.0,!=1.25.1,<1.26,>=1.21.1 in /usr/local/lib/python3.7/dist-packages (from requests>=2.4->streamlit) (1.24.3)\n",
            "Requirement already satisfied: idna<3,>=2.5 in /usr/local/lib/python3.7/dist-packages (from requests>=2.4->streamlit) (2.10)\n",
            "Requirement already satisfied: chardet<4,>=3.0.2 in /usr/local/lib/python3.7/dist-packages (from requests>=2.4->streamlit) (3.0.4)\n",
            "Collecting commonmark<0.10.0,>=0.9.0\n",
            "  Downloading commonmark-0.9.1-py2.py3-none-any.whl (51 kB)\n",
            "\u001b[K     |████████████████████████████████| 51 kB 8.3 MB/s \n",
            "\u001b[?25hRequirement already satisfied: pygments<3.0.0,>=2.6.0 in /usr/local/lib/python3.7/dist-packages (from rich>=10.11.0->streamlit) (2.6.1)\n",
            "Requirement already satisfied: decorator>=3.4.0 in /usr/local/lib/python3.7/dist-packages (from validators>=0.2->streamlit) (4.4.2)\n",
            "Building wheels for collected packages: validators\n",
            "  Building wheel for validators (setup.py) ... \u001b[?25l\u001b[?25hdone\n",
            "  Created wheel for validators: filename=validators-0.20.0-py3-none-any.whl size=19582 sha256=923808184c0fce066872a3b5875640497276aa3aca3759d0c28442ccdbba4a71\n",
            "  Stored in directory: /root/.cache/pip/wheels/5f/55/ab/36a76989f7f88d9ca7b1f68da6d94252bb6a8d6ad4f18e04e9\n",
            "Successfully built validators\n",
            "Installing collected packages: smmap, gitdb, commonmark, watchdog, validators, rich, pympler, pydeck, gitpython, blinker, streamlit\n",
            "Successfully installed blinker-1.5 commonmark-0.9.1 gitdb-4.0.9 gitpython-3.1.27 pydeck-0.8.0b1 pympler-1.0.1 rich-12.5.1 smmap-5.0.0 streamlit-1.12.2 validators-0.20.0 watchdog-2.1.9\n"
          ]
        }
      ]
    },
    {
      "cell_type": "code",
      "execution_count": null,
      "metadata": {
        "colab": {
          "base_uri": "https://localhost:8080/"
        },
        "id": "wQ2N0mZzDWFX",
        "outputId": "d9a773e7-5aff-4656-9703-9dafb23c5a03"
      },
      "outputs": [
        {
          "output_type": "stream",
          "name": "stderr",
          "text": [
            "INFO:numexpr.utils:NumExpr defaulting to 2 threads.\n",
            "2022-08-26 22:13:58.536 INFO    numexpr.utils: NumExpr defaulting to 2 threads.\n"
          ]
        }
      ],
      "source": [
        "import streamlit as st\n",
        "import pandas as pd\n",
        "import subprocess\n",
        "import os\n",
        "import base64\n",
        "import pickle"
      ]
    },
    {
      "cell_type": "code",
      "source": [
        "def desc_calc():\n",
        "  bashCommand = \"java -Xms2G -Xmx2G -Djava.awt.headless=true -jar ./PaDEL -Descriptor/Padel -Descripor.jar -removesalt -standardizenitro -fingerprints -descriptortypes ./PaDEL -Descriptor/%s -dir ./ -file descriptors_output.csv\" %selected_fp\n",
        "  process =subprocess.Popen(bashCommand.split(), stdout= subprocess. PIPE)\n",
        "  out, error = process.communicate()\n",
        "  st.subheader(\"Calculated molecular descriptors\")\n",
        "  desc = pd.read_csv(\"descriptor_output.csv\")\n",
        "  st.write(desc)\n",
        "  st.markdown(filedownload(desc), unsafe_allow_html=True)\n",
        "  nmol = desc.shape[0]\n",
        "  ndesc = desc.shape[1]\n",
        "  st.info(\"Selected fingerprint:\" +user_fp)\n",
        "  st.info(\"Number of molecules:\" + str(nmol))\n",
        "  st.info(\"Number of descriptors:\" str(ndesc-1))\n",
        "  os.remove(\"molecule.smi\")\n"
      ],
      "metadata": {
        "id": "02qiE4wxEQqr"
      },
      "execution_count": null,
      "outputs": []
    },
    {
      "cell_type": "code",
      "source": [
        "def filedownload(df):\n",
        "  csv = df.to_csv(index=False)\n",
        "  b64 = base64. b64encode(csv.encode()).decode()\n",
        "  href = f'<a href= \"data:file/csv;base64, {b64}\" download=\"descriptor_{user_fp}.csv\">Download CSV file</a>'\n",
        "  return href\n",
        "  "
      ],
      "metadata": {
        "id": "RmmqFJOZLqZt"
      },
      "execution_count": null,
      "outputs": []
    },
    {
      "cell_type": "code",
      "source": [
        "def build_model(input_data):\n",
        "  load_model = pickle.load(open('',''))\n",
        "  prediction = load_model.predict(input_data)\n",
        "  st.header('**Prediction output**')\n",
        "  molecule_name = pd.series(prediction, name='Activity')\n",
        "  st.write(df)\n",
        "  st.markdown(filedown(df), unsafe_allow_html=True)"
      ],
      "metadata": {
        "id": "BYATZAACiEoH"
      },
      "execution_count": null,
      "outputs": []
    },
    {
      "cell_type": "code",
      "source": [
        "image = Image.open('')\n",
        "st.image(image, use_column_width= True)"
      ],
      "metadata": {
        "id": "sAywmhXdlS31"
      },
      "execution_count": null,
      "outputs": []
    },
    {
      "cell_type": "code",
      "source": [
        "st.markdown(\"\"\" \n",
        "# Drug adverse event prediction App\n",
        "\"\"\")"
      ],
      "metadata": {
        "id": "aEY4dztqQRAm"
      },
      "execution_count": null,
      "outputs": []
    },
    {
      "cell_type": "code",
      "source": [
        "with st.sidebar.header('1. Upload your CSV data'):\n",
        "  uploaded_file = st.sidebar.file_uploader(\"Upload your input file\", type =[\"txt\"])\n"
      ],
      "metadata": {
        "id": "EZ6rVw9wSHv_"
      },
      "execution_count": null,
      "outputs": []
    },
    {
      "cell_type": "code",
      "source": [
        "if st.sidebar.button('Predict'):\n",
        "  load_data = pd.read_table(uploaded_file, sep=' ', header=None)\n",
        "  load_data.to_csv('molecule.smi', sep = '\\t', header = False, index =False)\n",
        "\n",
        "  st.header('**Original input data**')\n",
        "  st.write(load_data)\n",
        "  with st.spinner(\"Calculating descriptors...\"):\n",
        "    desc_calc()\n",
        "\n",
        "  st.header('**Calculated molecular descriptor**')\n",
        "  desc = pd.read_csv('descriptor_output.csv')\n",
        "  st.write(desc)\n",
        "  st.write(desc.shape)\n",
        "\n",
        "  st.header('**Subset of descriptors from previously built model**')\n",
        "  Xlist = list(pd.read_csv('descriptor_list.csv').columns)\n",
        "  desc_subset = desc[Xlist]\n",
        "  st.write(desc_subset)\n",
        "  st.write(desc_subset.shape)\n",
        "\n",
        "  build_model(desc_subset)\n",
        "\n"
      ],
      "metadata": {
        "id": "ApUrwbHQnVK-"
      },
      "execution_count": null,
      "outputs": []
    },
    {
      "cell_type": "code",
      "source": [
        "else: \n",
        "  st.info('Upload input data in the sidebar to start!')"
      ],
      "metadata": {
        "id": "foaHlQVWtk9e"
      },
      "execution_count": null,
      "outputs": []
    },
    {
      "cell_type": "code",
      "source": [],
      "metadata": {
        "id": "Olv4FxhXp31e"
      },
      "execution_count": null,
      "outputs": []
    },
    {
      "cell_type": "markdown",
      "source": [],
      "metadata": {
        "id": "fzLqOpk8p1V-"
      }
    },
    {
      "cell_type": "markdown",
      "source": [],
      "metadata": {
        "id": "mkSQyzXwp1Zn"
      }
    },
    {
      "cell_type": "markdown",
      "source": [],
      "metadata": {
        "id": "31LojO_wp1td"
      }
    },
    {
      "cell_type": "markdown",
      "source": [],
      "metadata": {
        "id": "LJx52TBRp1wx"
      }
    },
    {
      "cell_type": "markdown",
      "source": [],
      "metadata": {
        "id": "ik7eFbc4p1z9"
      }
    },
    {
      "cell_type": "markdown",
      "source": [],
      "metadata": {
        "id": "8rlcP574p13M"
      }
    },
    {
      "cell_type": "markdown",
      "source": [],
      "metadata": {
        "id": "E1nNtGoqp16g"
      }
    },
    {
      "cell_type": "markdown",
      "source": [],
      "metadata": {
        "id": "SgshhnbNp19Y"
      }
    },
    {
      "cell_type": "markdown",
      "source": [],
      "metadata": {
        "id": "WrsG-_NPp2Af"
      }
    },
    {
      "cell_type": "markdown",
      "source": [],
      "metadata": {
        "id": "U1TH6KDCp2D3"
      }
    },
    {
      "cell_type": "code",
      "source": [
        "with st.sidebar.header('2. Enter canonical Smiles'):\n",
        "  name_smiles = st.sidebar.text_input('SMILES notation', 'canonica_smiles')"
      ],
      "metadata": {
        "id": "uPdiOnlFUv53"
      },
      "execution_count": null,
      "outputs": []
    },
    {
      "cell_type": "code",
      "source": [
        "with st.sidebar.header('3. Set parameters'):\n",
        "  fp_dict = {'AtomPairs2DCount': 'AtomPairs2DFingerprintCount.xml',\n",
        "             'AtomPairs2D': 'AtomPairs2DFingerprinter.xml',\n",
        "             'EState': 'EStateFingerprinter.xml',\n",
        "             'CDKextended': 'ExtendedFingerprinter.xml',\n",
        "             'CDK': 'Fingerprinter.xml',\n",
        "             'CDKgraphonly': 'GraphOnlyFingerprinter.xml',\n",
        "             'KlekotaRothCount': 'KlekotaRothFingerprintCount.xml',\n",
        "             'KlekotaRoth': 'KlekotaRothFingerprinter.xml',\n",
        "             'MACC': 'MACCSFingerprinter.xml',\n",
        "             'Pubchem': 'PubchemFingerprinter.xml',\n",
        "             'SubstructureCount': 'SubstructureFingerprintCount.xml',\n",
        "             'Substructure': 'SubstructureFingerprinter.xml'}\n",
        " user_fp = st.sidebar.selectbox('Choose fingerprint to calculate')\n",
        " selected_fp = fp_dict[user_fp]\n",
        " "
      ],
      "metadata": {
        "id": "zFx22G-EU2kF"
      },
      "execution_count": null,
      "outputs": []
    },
    {
      "cell_type": "code",
      "source": [
        "if upload_file is not None:\n",
        "  @st.cache\n",
        "  def load_csv():\n",
        "    csv =pd.read_csv(uploaded_file).iloc[:number2calc,1:]\n",
        "    return csv\n",
        "  df = load_csv()\n",
        "  df2 =pd.concat([df[name_smiles], df[name_mol]], axis=1)\n",
        "  df2.to_csv('molecule.smi', sep = '\\t', header = False, index =)\n",
        "  st.subheader('Initial data from CSV file')\n",
        "  st.write(df)\n",
        "  st.subheader('Formatted as PaDEL input file')\n",
        "  st.write(df2)\n",
        "  with st.spinner(\"Calculating descriptors...\"):\n",
        "    desc_calc()\n",
        "    \n"
      ],
      "metadata": {
        "id": "NFJeZKu6ZnGJ"
      },
      "execution_count": null,
      "outputs": []
    },
    {
      "cell_type": "code",
      "source": [
        "else:\n",
        "  st.info('Awaiting for csv file to be uploaded.')\n"
      ],
      "metadata": {
        "id": "EIgHWXWveMwc"
      },
      "execution_count": null,
      "outputs": []
    },
    {
      "cell_type": "code",
      "source": [],
      "metadata": {
        "id": "BylKuifeWCUY"
      },
      "execution_count": null,
      "outputs": []
    }
  ]
}