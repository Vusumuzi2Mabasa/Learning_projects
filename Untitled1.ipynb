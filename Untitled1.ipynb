{
  "nbformat": 4,
  "nbformat_minor": 0,
  "metadata": {
    "colab": {
      "name": "Untitled1.ipynb",
      "provenance": [],
      "authorship_tag": "ABX9TyPvjb5jUJI1V9Nk6WWkN3uy",
      "include_colab_link": true
    },
    "kernelspec": {
      "name": "python3",
      "display_name": "Python 3"
    },
    "language_info": {
      "name": "python"
    }
  },
  "cells": [
    {
      "cell_type": "markdown",
      "metadata": {
        "id": "view-in-github",
        "colab_type": "text"
      },
      "source": [
        "<a href=\"https://colab.research.google.com/github/Vu529/P.h.D-AI-project/blob/main/Untitled1.ipynb\" target=\"_parent\"><img src=\"https://colab.research.google.com/assets/colab-badge.svg\" alt=\"Open In Colab\"/></a>"
      ]
    },
    {
      "cell_type": "code",
      "execution_count": null,
      "metadata": {
        "id": "QkjByujr5edl"
      },
      "outputs": [],
      "source": [
        "from google.colab import files\n",
        "uploaded = files.upload()"
      ]
    },
    {
      "cell_type": "code",
      "source": [
        "import pandas as pd\n",
        "\n",
        "df2 = pd.read_excel('TB.xlsx')\n",
        "df2"
      ],
      "metadata": {
        "id": "QbTAN6O15l-J"
      },
      "execution_count": null,
      "outputs": []
    },
    {
      "cell_type": "code",
      "source": [
        "! pip install padelpy"
      ],
      "metadata": {
        "id": "2s8PUsFv52p4"
      },
      "execution_count": null,
      "outputs": []
    },
    {
      "cell_type": "code",
      "source": [
        "! wget https://github.com/dataprofessor/padel/raw/main/fingerprints_xml.zip\n",
        "! unzip fingerprints_xml.zip"
      ],
      "metadata": {
        "id": "0qwPzuL954g0"
      },
      "execution_count": null,
      "outputs": []
    },
    {
      "cell_type": "code",
      "source": [
        "import glob\n",
        "xml_files = glob.glob(\"*.xml\")\n",
        "xml_files.sort()\n",
        "xml_files"
      ],
      "metadata": {
        "id": "vRSjcEeI6FvX"
      },
      "execution_count": null,
      "outputs": []
    },
    {
      "cell_type": "code",
      "source": [
        "FP_list = ['AtomPairs2DCount',\n",
        "           'AtomPairs2D',\n",
        "           'EState',\n",
        "           'CDKextended',\n",
        "           'CDK',\n",
        "           'CDKgraphonly',\n",
        "           'KlekotaRothCount',\n",
        "           'KlekotaRoth',\n",
        "           'MACC',\n",
        "           'Pubchem',\n",
        "           'SubstructureCount',\n",
        "           'Substructure']"
      ],
      "metadata": {
        "id": "eUWMjd-76MqG"
      },
      "execution_count": null,
      "outputs": []
    },
    {
      "cell_type": "code",
      "source": [
        "fp = dict(zip(FP_list, xml_files))\n",
        "fp"
      ],
      "metadata": {
        "id": "NWwi_SdI6OPc"
      },
      "execution_count": null,
      "outputs": []
    },
    {
      "cell_type": "code",
      "source": [
        "selection = ['canonical_smiles','Class']\n",
        "df3_selection = df2[selection]\n",
        "df3_selection.to_csv('molecule.smi', sep='\\t', index=False, header=False)\n"
      ],
      "metadata": {
        "id": "ibrCFnvQ6bWa"
      },
      "execution_count": null,
      "outputs": []
    },
    {
      "cell_type": "code",
      "source": [
        "! cat molecule.smi | head -5"
      ],
      "metadata": {
        "id": "2P7VWpUu6diH"
      },
      "execution_count": null,
      "outputs": []
    },
    {
      "cell_type": "code",
      "source": [
        "from padelpy import padeldescriptor\n",
        "fingerprint = 'Substructure'\n",
        "fingerprint_output_file = ''.join([fingerprint, '.excel']) #'Substructure.csv'\n",
        "fingerprint_descriptortypes = fp[fingerprint]\n",
        "\n",
        "padeldescriptor(mol_dir='molecule.smi',\n",
        "                  d_file=fingerprint_output_file,#'Substructure.csv'\n",
        "                  #descriptortypes='SubstructureFingerprint.xml'),\n",
        "                  descriptortypes= fingerprint_descriptortypes,\n",
        "                  detectaromaticity=True,\n",
        "                  standardizenitro=True,\n",
        "                  standardizetautomers=True,\n",
        "                  threads=2,\n",
        "                  removesalt=True,\n",
        "                  log=True,\n",
        "                  fingerprints=True)"
      ],
      "metadata": {
        "id": "UZ7RZtK86o25"
      },
      "execution_count": null,
      "outputs": []
    },
    {
      "cell_type": "code",
      "source": [
        "from padelpy import padeldescriptor\n",
        "fingerprint = 'MACC'\n",
        "MACC_output_file = ''.join([fingerprint, '.excel']) #'MACC.csv'\n",
        "fingerprint_descriptortypes = fp[fingerprint]\n",
        "\n",
        "padeldescriptor(mol_dir='molecule.smi',\n",
        "                  d_file=fingerprint_output_file,#'MACC.csv'\n",
        "                  #descriptortypes='MACCFingerprint.xml'),\n",
        "                  descriptortypes= fingerprint_descriptortypes,\n",
        "                  detectaromaticity=True,\n",
        "                  standardizenitro=True,\n",
        "                  standardizetautomers=True,\n",
        "                  threads=2,\n",
        "                  removesalt=True,\n",
        "                  log=True,\n",
        "                  fingerprints=True)"
      ],
      "metadata": {
        "id": "M0aNEUwp6yUr"
      },
      "execution_count": null,
      "outputs": []
    },
    {
      "cell_type": "code",
      "source": [
        "Descriptors1 =pd.read_csv(MACC_output_file)\n",
        "Descriptors1"
      ],
      "metadata": {
        "id": "5boiJvS76z-F"
      },
      "execution_count": null,
      "outputs": []
    },
    {
      "cell_type": "code",
      "source": [
        "Descriptors= pd.read_csv(fingerprint_output_file)\n",
        "Descriptors"
      ],
      "metadata": {
        "id": "7zkex0c769mp"
      },
      "execution_count": null,
      "outputs": []
    },
    {
      "cell_type": "code",
      "source": [
        "df_combined = pd.concat([df_lipinski, df2], axis=1)\n",
        "df_combined"
      ],
      "metadata": {
        "id": "0hQ0lZHb7Z1n"
      },
      "execution_count": null,
      "outputs": []
    },
    {
      "cell_type": "code",
      "source": [
        "df_combined.to_csv('TB_cytotoxicity.csv', index=False)"
      ],
      "metadata": {
        "id": "XMaW8XH-7k9K"
      },
      "execution_count": null,
      "outputs": []
    },
    {
      "cell_type": "code",
      "source": [
        "from google.colab import drive\n",
        "drive.mount('/content/gdrive/', force_remount=True)"
      ],
      "metadata": {
        "id": "0VMZt9hb7wfN"
      },
      "execution_count": null,
      "outputs": []
    },
    {
      "cell_type": "code",
      "source": [
        "! mkdir '/content/gdrive/My Drive/Colab Notebooks/dataTB'"
      ],
      "metadata": {
        "id": "1cpel1zf709i"
      },
      "execution_count": null,
      "outputs": []
    },
    {
      "cell_type": "code",
      "source": [
        "! cp TB_cytotoxicity.csv '/content/gdrive/My Drive/Colab Notebooks/dataTB'"
      ],
      "metadata": {
        "id": "bZrrc4zO8BEH"
      },
      "execution_count": null,
      "outputs": []
    },
    {
      "cell_type": "code",
      "source": [
        "! ls -l '/content/gdrive/My Drive/Colab Notebooks/dataTB'"
      ],
      "metadata": {
        "id": "IXwQNG3a8C-k"
      },
      "execution_count": null,
      "outputs": []
    }
  ]
}